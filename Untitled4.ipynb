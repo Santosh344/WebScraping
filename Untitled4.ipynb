{
  "nbformat": 4,
  "nbformat_minor": 0,
  "metadata": {
    "colab": {
      "provenance": [],
      "authorship_tag": "ABX9TyO1H7yN2XHTwUWjycuLS+iO",
      "include_colab_link": true
    },
    "kernelspec": {
      "name": "python3",
      "display_name": "Python 3"
    },
    "language_info": {
      "name": "python"
    }
  },
  "cells": [
    {
      "cell_type": "markdown",
      "metadata": {
        "id": "view-in-github",
        "colab_type": "text"
      },
      "source": [
        "<a href=\"https://colab.research.google.com/github/Santosh344/WebScraping/blob/main/Untitled4.ipynb\" target=\"_parent\"><img src=\"https://colab.research.google.com/assets/colab-badge.svg\" alt=\"Open In Colab\"/></a>"
      ]
    },
    {
      "cell_type": "code",
      "execution_count": 2,
      "metadata": {
        "id": "XoBh4mHL8AiZ"
      },
      "outputs": [],
      "source": [
        "import pandas as pd\n",
        "from bs4 import BeautifulSoup\n",
        "import requests, time, datetime,re,random"
      ]
    },
    {
      "cell_type": "code",
      "source": [
        "url=\"https://github.com/topics\"\n",
        "headers = {\"User-agent\":'Mozilla/5.0 (Macintosh; Intel Mac OS X 10_15_7) AppleWebKit/537.36 (KHTML, like Gecko) Chrome/113.0.0.0 Safari/537.36'}\n",
        "response=requests.get(url,headers=headers)\n",
        "response.status_code\n"
      ],
      "metadata": {
        "colab": {
          "base_uri": "https://localhost:8080/"
        },
        "id": "mKayvTNN88eK",
        "outputId": "eebe4bfb-510d-4861-8ec3-a9b787eb9b96"
      },
      "execution_count": 69,
      "outputs": [
        {
          "output_type": "execute_result",
          "data": {
            "text/plain": [
              "200"
            ]
          },
          "metadata": {},
          "execution_count": 69
        }
      ]
    },
    {
      "cell_type": "code",
      "source": [
        "soup = BeautifulSoup(response.text,'html.parser')\n",
        "len(response.text)"
      ],
      "metadata": {
        "colab": {
          "base_uri": "https://localhost:8080/"
        },
        "id": "K015Jht4-RK3",
        "outputId": "d6f4e1aa-b6fb-4848-9409-6cbc563509f2"
      },
      "execution_count": 45,
      "outputs": [
        {
          "output_type": "execute_result",
          "data": {
            "text/plain": [
              "155986"
            ]
          },
          "metadata": {},
          "execution_count": 45
        }
      ]
    },
    {
      "cell_type": "code",
      "source": [
        "#saving the web side content..\n",
        "with open(\"webpage.html\",\"w\") as f:\n",
        "  f.write(response.text)"
      ],
      "metadata": {
        "id": "VBhLYUQORAgz"
      },
      "execution_count": 47,
      "outputs": []
    },
    {
      "cell_type": "code",
      "source": [
        "#obtaining required information..\n",
        "topic_tags = soup.find_all('p', class_=\"f3 lh-condensed mb-0 mt-1 Link--primary\")\n",
        "topic_description = soup.find_all('p',class_=\"f5 color-fg-muted mb-0 mt-1\")\n",
        "link = soup.find(\"a\",class_=\"no-underline flex-grow-0\").get(\"href\")"
      ],
      "metadata": {
        "id": "gv4hOWBxTw5Z"
      },
      "execution_count": 104,
      "outputs": []
    },
    {
      "cell_type": "code",
      "source": [
        "base_url=\"https://github.com/topics\"\n",
        "urls_list=[]\n",
        "for link in soup.find_all(\"a\",class_=\"no-underline flex-grow-0\",href = True):\n",
        "  urls_list.append(link[\"href\"])\n",
        "urls_list\n"
      ],
      "metadata": {
        "colab": {
          "base_uri": "https://localhost:8080/"
        },
        "id": "9IPNRIzuh4xy",
        "outputId": "fcc2980f-ada3-4390-de6e-34b1ada8e2ee"
      },
      "execution_count": 115,
      "outputs": [
        {
          "output_type": "execute_result",
          "data": {
            "text/plain": [
              "['/topics/3d',\n",
              " '/topics/ajax',\n",
              " '/topics/algorithm',\n",
              " '/topics/amphp',\n",
              " '/topics/android',\n",
              " '/topics/angular',\n",
              " '/topics/ansible',\n",
              " '/topics/api',\n",
              " '/topics/arduino',\n",
              " '/topics/aspnet',\n",
              " '/topics/atom',\n",
              " '/topics/awesome',\n",
              " '/topics/aws',\n",
              " '/topics/azure',\n",
              " '/topics/babel',\n",
              " '/topics/bash',\n",
              " '/topics/bitcoin',\n",
              " '/topics/bootstrap',\n",
              " '/topics/bot',\n",
              " '/topics/c',\n",
              " '/topics/chrome',\n",
              " '/topics/chrome-extension',\n",
              " '/topics/cli',\n",
              " '/topics/clojure',\n",
              " '/topics/code-quality',\n",
              " '/topics/code-review',\n",
              " '/topics/compiler',\n",
              " '/topics/continuous-integration',\n",
              " '/topics/covid-19',\n",
              " '/topics/cpp']"
            ]
          },
          "metadata": {},
          "execution_count": 115
        }
      ]
    },
    {
      "cell_type": "code",
      "source": [
        "#creating dictonary to store the all the data obtained on title..\n",
        "topic =[]\n",
        "for topic_t in topic_tags:\n",
        "  if response.status_code==200:  \n",
        "        topic.append(topic_t.text)\n",
        "  else:\n",
        "    print(\"Unseccessful to Obtain information. Try again\")\n",
        "    \n",
        "topic"
      ],
      "metadata": {
        "id": "N8Eoe2TDYiri"
      },
      "execution_count": null,
      "outputs": []
    },
    {
      "cell_type": "code",
      "source": [
        "#creating dictonary for the description\n",
        "description = []\n",
        "for desc in topic_description:\n",
        "  if response.status_code==200:\n",
        "    description.append(desc.text.strip())\n",
        "  else:\n",
        "    print(\"Try again\")\n",
        "description"
      ],
      "metadata": {
        "id": "CvmXilUhbeN2"
      },
      "execution_count": null,
      "outputs": []
    },
    {
      "cell_type": "code",
      "source": [
        "\n",
        "#creating link for the each tpoic..\\\n",
        "link_store=[]\n",
        "base_url=\"https://github.com/topics\"\n",
        "for links in urls_list:\n",
        "  if response.status_code==200:\n",
        "    link_store.append(base_url+links)\n",
        "  else:\n",
        "    print(\"Try again\")\n",
        "link_store"
      ],
      "metadata": {
        "colab": {
          "base_uri": "https://localhost:8080/"
        },
        "id": "8rYCdZb7cK9l",
        "outputId": "aae0d958-c6d9-4049-9f79-2ece86faced3"
      },
      "execution_count": 119,
      "outputs": [
        {
          "output_type": "execute_result",
          "data": {
            "text/plain": [
              "['https://github.com/topics/topics/3d',\n",
              " 'https://github.com/topics/topics/ajax',\n",
              " 'https://github.com/topics/topics/algorithm',\n",
              " 'https://github.com/topics/topics/amphp',\n",
              " 'https://github.com/topics/topics/android',\n",
              " 'https://github.com/topics/topics/angular',\n",
              " 'https://github.com/topics/topics/ansible',\n",
              " 'https://github.com/topics/topics/api',\n",
              " 'https://github.com/topics/topics/arduino',\n",
              " 'https://github.com/topics/topics/aspnet',\n",
              " 'https://github.com/topics/topics/atom',\n",
              " 'https://github.com/topics/topics/awesome',\n",
              " 'https://github.com/topics/topics/aws',\n",
              " 'https://github.com/topics/topics/azure',\n",
              " 'https://github.com/topics/topics/babel',\n",
              " 'https://github.com/topics/topics/bash',\n",
              " 'https://github.com/topics/topics/bitcoin',\n",
              " 'https://github.com/topics/topics/bootstrap',\n",
              " 'https://github.com/topics/topics/bot',\n",
              " 'https://github.com/topics/topics/c',\n",
              " 'https://github.com/topics/topics/chrome',\n",
              " 'https://github.com/topics/topics/chrome-extension',\n",
              " 'https://github.com/topics/topics/cli',\n",
              " 'https://github.com/topics/topics/clojure',\n",
              " 'https://github.com/topics/topics/code-quality',\n",
              " 'https://github.com/topics/topics/code-review',\n",
              " 'https://github.com/topics/topics/compiler',\n",
              " 'https://github.com/topics/topics/continuous-integration',\n",
              " 'https://github.com/topics/topics/covid-19',\n",
              " 'https://github.com/topics/topics/cpp']"
            ]
          },
          "metadata": {},
          "execution_count": 119
        }
      ]
    },
    {
      "cell_type": "code",
      "source": [
        "totaldata = { \"topic\":topic,\n",
        "      \"description\":description,\n",
        "    \"links\":link_store}"
      ],
      "metadata": {
        "id": "zdpQZVZjnLwX"
      },
      "execution_count": 125,
      "outputs": []
    },
    {
      "cell_type": "code",
      "source": [
        "#converting into pandas dataframe..\n",
        "df = pd.DataFrame(totaldata)\n",
        "df"
      ],
      "metadata": {
        "colab": {
          "base_uri": "https://localhost:8080/",
          "height": 990
        },
        "id": "Nk5emf04pVeu",
        "outputId": "38461e19-4f56-4b7a-8c45-5a116a8850c5"
      },
      "execution_count": 127,
      "outputs": [
        {
          "output_type": "execute_result",
          "data": {
            "text/plain": [
              "                     topic                                        description  \\\n",
              "0                       3D  3D refers to the use of three-dimensional grap...   \n",
              "1                     Ajax  Ajax is a technique for creating interactive w...   \n",
              "2                Algorithm  Algorithms are self-contained sequences that c...   \n",
              "3                      Amp  Amp is a non-blocking concurrency library for ...   \n",
              "4                  Android  Android is an operating system built by Google...   \n",
              "5                  Angular  Angular is an open source web application plat...   \n",
              "6                  Ansible  Ansible is a simple and powerful automation en...   \n",
              "7                      API  An API (Application Programming Interface) is ...   \n",
              "8                  Arduino  Arduino is an open source platform for buildin...   \n",
              "9                  ASP.NET  ASP.NET is a web framework for building modern...   \n",
              "10                    Atom  Atom is a open source text editor built with w...   \n",
              "11           Awesome Lists  An awesome list is a list of awesome things cu...   \n",
              "12     Amazon Web Services  Amazon Web Services provides on-demand cloud c...   \n",
              "13                   Azure  Azure is a cloud computing service created by ...   \n",
              "14                   Babel  Babel is a compiler for writing next generatio...   \n",
              "15                    Bash  Bash is a shell and command language interpret...   \n",
              "16                 Bitcoin  Bitcoin is a cryptocurrency developed by Satos...   \n",
              "17               Bootstrap  Bootstrap is an HTML, CSS, and JavaScript fram...   \n",
              "18                     Bot  A bot is an application that runs automated ta...   \n",
              "19                       C  C is a general purpose programming language th...   \n",
              "20                  Chrome  Chrome is a web browser from the tech company ...   \n",
              "21        Chrome extension  Chrome extensions enable users to customize th...   \n",
              "22  Command line interface  A CLI, or command-line interface, is a console...   \n",
              "23                 Clojure  Clojure is a dynamic, general-purpose programm...   \n",
              "24            Code quality  Automate your code review with style, quality,...   \n",
              "25             Code review  Ensure your code meets quality standards and s...   \n",
              "26                Compiler  Compilers are software that translate higher-l...   \n",
              "27  Continuous integration  Automatically build and test your code as you ...   \n",
              "28                COVID-19  The coronavirus disease 2019 (COVID-19) is an ...   \n",
              "29                     C++  C++ is a general purpose and object-oriented p...   \n",
              "\n",
              "                                                links  \n",
              "0                 https://github.com/topics/topics/3d  \n",
              "1               https://github.com/topics/topics/ajax  \n",
              "2          https://github.com/topics/topics/algorithm  \n",
              "3              https://github.com/topics/topics/amphp  \n",
              "4            https://github.com/topics/topics/android  \n",
              "5            https://github.com/topics/topics/angular  \n",
              "6            https://github.com/topics/topics/ansible  \n",
              "7                https://github.com/topics/topics/api  \n",
              "8            https://github.com/topics/topics/arduino  \n",
              "9             https://github.com/topics/topics/aspnet  \n",
              "10              https://github.com/topics/topics/atom  \n",
              "11           https://github.com/topics/topics/awesome  \n",
              "12               https://github.com/topics/topics/aws  \n",
              "13             https://github.com/topics/topics/azure  \n",
              "14             https://github.com/topics/topics/babel  \n",
              "15              https://github.com/topics/topics/bash  \n",
              "16           https://github.com/topics/topics/bitcoin  \n",
              "17         https://github.com/topics/topics/bootstrap  \n",
              "18               https://github.com/topics/topics/bot  \n",
              "19                 https://github.com/topics/topics/c  \n",
              "20            https://github.com/topics/topics/chrome  \n",
              "21  https://github.com/topics/topics/chrome-extension  \n",
              "22               https://github.com/topics/topics/cli  \n",
              "23           https://github.com/topics/topics/clojure  \n",
              "24      https://github.com/topics/topics/code-quality  \n",
              "25       https://github.com/topics/topics/code-review  \n",
              "26          https://github.com/topics/topics/compiler  \n",
              "27  https://github.com/topics/topics/continuous-in...  \n",
              "28          https://github.com/topics/topics/covid-19  \n",
              "29               https://github.com/topics/topics/cpp  "
            ],
            "text/html": [
              "\n",
              "  <div id=\"df-40226690-4b85-47f2-b683-cf8b7d01d4a1\">\n",
              "    <div class=\"colab-df-container\">\n",
              "      <div>\n",
              "<style scoped>\n",
              "    .dataframe tbody tr th:only-of-type {\n",
              "        vertical-align: middle;\n",
              "    }\n",
              "\n",
              "    .dataframe tbody tr th {\n",
              "        vertical-align: top;\n",
              "    }\n",
              "\n",
              "    .dataframe thead th {\n",
              "        text-align: right;\n",
              "    }\n",
              "</style>\n",
              "<table border=\"1\" class=\"dataframe\">\n",
              "  <thead>\n",
              "    <tr style=\"text-align: right;\">\n",
              "      <th></th>\n",
              "      <th>topic</th>\n",
              "      <th>description</th>\n",
              "      <th>links</th>\n",
              "    </tr>\n",
              "  </thead>\n",
              "  <tbody>\n",
              "    <tr>\n",
              "      <th>0</th>\n",
              "      <td>3D</td>\n",
              "      <td>3D refers to the use of three-dimensional grap...</td>\n",
              "      <td>https://github.com/topics/topics/3d</td>\n",
              "    </tr>\n",
              "    <tr>\n",
              "      <th>1</th>\n",
              "      <td>Ajax</td>\n",
              "      <td>Ajax is a technique for creating interactive w...</td>\n",
              "      <td>https://github.com/topics/topics/ajax</td>\n",
              "    </tr>\n",
              "    <tr>\n",
              "      <th>2</th>\n",
              "      <td>Algorithm</td>\n",
              "      <td>Algorithms are self-contained sequences that c...</td>\n",
              "      <td>https://github.com/topics/topics/algorithm</td>\n",
              "    </tr>\n",
              "    <tr>\n",
              "      <th>3</th>\n",
              "      <td>Amp</td>\n",
              "      <td>Amp is a non-blocking concurrency library for ...</td>\n",
              "      <td>https://github.com/topics/topics/amphp</td>\n",
              "    </tr>\n",
              "    <tr>\n",
              "      <th>4</th>\n",
              "      <td>Android</td>\n",
              "      <td>Android is an operating system built by Google...</td>\n",
              "      <td>https://github.com/topics/topics/android</td>\n",
              "    </tr>\n",
              "    <tr>\n",
              "      <th>5</th>\n",
              "      <td>Angular</td>\n",
              "      <td>Angular is an open source web application plat...</td>\n",
              "      <td>https://github.com/topics/topics/angular</td>\n",
              "    </tr>\n",
              "    <tr>\n",
              "      <th>6</th>\n",
              "      <td>Ansible</td>\n",
              "      <td>Ansible is a simple and powerful automation en...</td>\n",
              "      <td>https://github.com/topics/topics/ansible</td>\n",
              "    </tr>\n",
              "    <tr>\n",
              "      <th>7</th>\n",
              "      <td>API</td>\n",
              "      <td>An API (Application Programming Interface) is ...</td>\n",
              "      <td>https://github.com/topics/topics/api</td>\n",
              "    </tr>\n",
              "    <tr>\n",
              "      <th>8</th>\n",
              "      <td>Arduino</td>\n",
              "      <td>Arduino is an open source platform for buildin...</td>\n",
              "      <td>https://github.com/topics/topics/arduino</td>\n",
              "    </tr>\n",
              "    <tr>\n",
              "      <th>9</th>\n",
              "      <td>ASP.NET</td>\n",
              "      <td>ASP.NET is a web framework for building modern...</td>\n",
              "      <td>https://github.com/topics/topics/aspnet</td>\n",
              "    </tr>\n",
              "    <tr>\n",
              "      <th>10</th>\n",
              "      <td>Atom</td>\n",
              "      <td>Atom is a open source text editor built with w...</td>\n",
              "      <td>https://github.com/topics/topics/atom</td>\n",
              "    </tr>\n",
              "    <tr>\n",
              "      <th>11</th>\n",
              "      <td>Awesome Lists</td>\n",
              "      <td>An awesome list is a list of awesome things cu...</td>\n",
              "      <td>https://github.com/topics/topics/awesome</td>\n",
              "    </tr>\n",
              "    <tr>\n",
              "      <th>12</th>\n",
              "      <td>Amazon Web Services</td>\n",
              "      <td>Amazon Web Services provides on-demand cloud c...</td>\n",
              "      <td>https://github.com/topics/topics/aws</td>\n",
              "    </tr>\n",
              "    <tr>\n",
              "      <th>13</th>\n",
              "      <td>Azure</td>\n",
              "      <td>Azure is a cloud computing service created by ...</td>\n",
              "      <td>https://github.com/topics/topics/azure</td>\n",
              "    </tr>\n",
              "    <tr>\n",
              "      <th>14</th>\n",
              "      <td>Babel</td>\n",
              "      <td>Babel is a compiler for writing next generatio...</td>\n",
              "      <td>https://github.com/topics/topics/babel</td>\n",
              "    </tr>\n",
              "    <tr>\n",
              "      <th>15</th>\n",
              "      <td>Bash</td>\n",
              "      <td>Bash is a shell and command language interpret...</td>\n",
              "      <td>https://github.com/topics/topics/bash</td>\n",
              "    </tr>\n",
              "    <tr>\n",
              "      <th>16</th>\n",
              "      <td>Bitcoin</td>\n",
              "      <td>Bitcoin is a cryptocurrency developed by Satos...</td>\n",
              "      <td>https://github.com/topics/topics/bitcoin</td>\n",
              "    </tr>\n",
              "    <tr>\n",
              "      <th>17</th>\n",
              "      <td>Bootstrap</td>\n",
              "      <td>Bootstrap is an HTML, CSS, and JavaScript fram...</td>\n",
              "      <td>https://github.com/topics/topics/bootstrap</td>\n",
              "    </tr>\n",
              "    <tr>\n",
              "      <th>18</th>\n",
              "      <td>Bot</td>\n",
              "      <td>A bot is an application that runs automated ta...</td>\n",
              "      <td>https://github.com/topics/topics/bot</td>\n",
              "    </tr>\n",
              "    <tr>\n",
              "      <th>19</th>\n",
              "      <td>C</td>\n",
              "      <td>C is a general purpose programming language th...</td>\n",
              "      <td>https://github.com/topics/topics/c</td>\n",
              "    </tr>\n",
              "    <tr>\n",
              "      <th>20</th>\n",
              "      <td>Chrome</td>\n",
              "      <td>Chrome is a web browser from the tech company ...</td>\n",
              "      <td>https://github.com/topics/topics/chrome</td>\n",
              "    </tr>\n",
              "    <tr>\n",
              "      <th>21</th>\n",
              "      <td>Chrome extension</td>\n",
              "      <td>Chrome extensions enable users to customize th...</td>\n",
              "      <td>https://github.com/topics/topics/chrome-extension</td>\n",
              "    </tr>\n",
              "    <tr>\n",
              "      <th>22</th>\n",
              "      <td>Command line interface</td>\n",
              "      <td>A CLI, or command-line interface, is a console...</td>\n",
              "      <td>https://github.com/topics/topics/cli</td>\n",
              "    </tr>\n",
              "    <tr>\n",
              "      <th>23</th>\n",
              "      <td>Clojure</td>\n",
              "      <td>Clojure is a dynamic, general-purpose programm...</td>\n",
              "      <td>https://github.com/topics/topics/clojure</td>\n",
              "    </tr>\n",
              "    <tr>\n",
              "      <th>24</th>\n",
              "      <td>Code quality</td>\n",
              "      <td>Automate your code review with style, quality,...</td>\n",
              "      <td>https://github.com/topics/topics/code-quality</td>\n",
              "    </tr>\n",
              "    <tr>\n",
              "      <th>25</th>\n",
              "      <td>Code review</td>\n",
              "      <td>Ensure your code meets quality standards and s...</td>\n",
              "      <td>https://github.com/topics/topics/code-review</td>\n",
              "    </tr>\n",
              "    <tr>\n",
              "      <th>26</th>\n",
              "      <td>Compiler</td>\n",
              "      <td>Compilers are software that translate higher-l...</td>\n",
              "      <td>https://github.com/topics/topics/compiler</td>\n",
              "    </tr>\n",
              "    <tr>\n",
              "      <th>27</th>\n",
              "      <td>Continuous integration</td>\n",
              "      <td>Automatically build and test your code as you ...</td>\n",
              "      <td>https://github.com/topics/topics/continuous-in...</td>\n",
              "    </tr>\n",
              "    <tr>\n",
              "      <th>28</th>\n",
              "      <td>COVID-19</td>\n",
              "      <td>The coronavirus disease 2019 (COVID-19) is an ...</td>\n",
              "      <td>https://github.com/topics/topics/covid-19</td>\n",
              "    </tr>\n",
              "    <tr>\n",
              "      <th>29</th>\n",
              "      <td>C++</td>\n",
              "      <td>C++ is a general purpose and object-oriented p...</td>\n",
              "      <td>https://github.com/topics/topics/cpp</td>\n",
              "    </tr>\n",
              "  </tbody>\n",
              "</table>\n",
              "</div>\n",
              "      <button class=\"colab-df-convert\" onclick=\"convertToInteractive('df-40226690-4b85-47f2-b683-cf8b7d01d4a1')\"\n",
              "              title=\"Convert this dataframe to an interactive table.\"\n",
              "              style=\"display:none;\">\n",
              "        \n",
              "  <svg xmlns=\"http://www.w3.org/2000/svg\" height=\"24px\"viewBox=\"0 0 24 24\"\n",
              "       width=\"24px\">\n",
              "    <path d=\"M0 0h24v24H0V0z\" fill=\"none\"/>\n",
              "    <path d=\"M18.56 5.44l.94 2.06.94-2.06 2.06-.94-2.06-.94-.94-2.06-.94 2.06-2.06.94zm-11 1L8.5 8.5l.94-2.06 2.06-.94-2.06-.94L8.5 2.5l-.94 2.06-2.06.94zm10 10l.94 2.06.94-2.06 2.06-.94-2.06-.94-.94-2.06-.94 2.06-2.06.94z\"/><path d=\"M17.41 7.96l-1.37-1.37c-.4-.4-.92-.59-1.43-.59-.52 0-1.04.2-1.43.59L10.3 9.45l-7.72 7.72c-.78.78-.78 2.05 0 2.83L4 21.41c.39.39.9.59 1.41.59.51 0 1.02-.2 1.41-.59l7.78-7.78 2.81-2.81c.8-.78.8-2.07 0-2.86zM5.41 20L4 18.59l7.72-7.72 1.47 1.35L5.41 20z\"/>\n",
              "  </svg>\n",
              "      </button>\n",
              "      \n",
              "  <style>\n",
              "    .colab-df-container {\n",
              "      display:flex;\n",
              "      flex-wrap:wrap;\n",
              "      gap: 12px;\n",
              "    }\n",
              "\n",
              "    .colab-df-convert {\n",
              "      background-color: #E8F0FE;\n",
              "      border: none;\n",
              "      border-radius: 50%;\n",
              "      cursor: pointer;\n",
              "      display: none;\n",
              "      fill: #1967D2;\n",
              "      height: 32px;\n",
              "      padding: 0 0 0 0;\n",
              "      width: 32px;\n",
              "    }\n",
              "\n",
              "    .colab-df-convert:hover {\n",
              "      background-color: #E2EBFA;\n",
              "      box-shadow: 0px 1px 2px rgba(60, 64, 67, 0.3), 0px 1px 3px 1px rgba(60, 64, 67, 0.15);\n",
              "      fill: #174EA6;\n",
              "    }\n",
              "\n",
              "    [theme=dark] .colab-df-convert {\n",
              "      background-color: #3B4455;\n",
              "      fill: #D2E3FC;\n",
              "    }\n",
              "\n",
              "    [theme=dark] .colab-df-convert:hover {\n",
              "      background-color: #434B5C;\n",
              "      box-shadow: 0px 1px 3px 1px rgba(0, 0, 0, 0.15);\n",
              "      filter: drop-shadow(0px 1px 2px rgba(0, 0, 0, 0.3));\n",
              "      fill: #FFFFFF;\n",
              "    }\n",
              "  </style>\n",
              "\n",
              "      <script>\n",
              "        const buttonEl =\n",
              "          document.querySelector('#df-40226690-4b85-47f2-b683-cf8b7d01d4a1 button.colab-df-convert');\n",
              "        buttonEl.style.display =\n",
              "          google.colab.kernel.accessAllowed ? 'block' : 'none';\n",
              "\n",
              "        async function convertToInteractive(key) {\n",
              "          const element = document.querySelector('#df-40226690-4b85-47f2-b683-cf8b7d01d4a1');\n",
              "          const dataTable =\n",
              "            await google.colab.kernel.invokeFunction('convertToInteractive',\n",
              "                                                     [key], {});\n",
              "          if (!dataTable) return;\n",
              "\n",
              "          const docLinkHtml = 'Like what you see? Visit the ' +\n",
              "            '<a target=\"_blank\" href=https://colab.research.google.com/notebooks/data_table.ipynb>data table notebook</a>'\n",
              "            + ' to learn more about interactive tables.';\n",
              "          element.innerHTML = '';\n",
              "          dataTable['output_type'] = 'display_data';\n",
              "          await google.colab.output.renderOutput(dataTable, element);\n",
              "          const docLink = document.createElement('div');\n",
              "          docLink.innerHTML = docLinkHtml;\n",
              "          element.appendChild(docLink);\n",
              "        }\n",
              "      </script>\n",
              "    </div>\n",
              "  </div>\n",
              "  "
            ]
          },
          "metadata": {},
          "execution_count": 127
        }
      ]
    }
  ]
}